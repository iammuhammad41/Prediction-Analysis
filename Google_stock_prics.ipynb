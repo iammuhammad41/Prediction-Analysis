{
 "cells": [
  {
   "cell_type": "markdown",
   "metadata": {
    "id": "WI419U7gKYcC"
   },
   "source": [
    "## Importing libraries\n",
    "\n",
    "A Python library is a collection of related modules. It contains bundles of code that can be used repeatedly in different programs. It makes Python Programming simpler and convenient for the programmer. As we don't need to write the same code again and again for different programs.\n",
    "\n",
    "\n",
    "### What are libraries used for in Python?\n",
    "    \n",
    "Python libraries are used to create applications and models in a variety of fields, for instance, machine learning, data science, data visualization, image and data manipulation, and many more.\n",
    "\n",
    "\n",
    "### Data Analysis: Do data analysts need Python libraries?\n",
    "Data analysts should also keep in mind the wide variety of other Python libraries available out there. These libraries, such as NumPy, Pandas, and Matplotlib, help the data analyst carry out his or her functions, and should be looked at once you have Python's basics nailed down.\n",
    "\n",
    "### Python libraries for Data Visualization\n",
    "Matplotlib and Seaborn are python libraries that are used for data visualization. They have inbuilt modules for plotting different graphs. While Matplotlib is used to embed graphs into applications, Seaborn is primarily used for statistical graphs."
   ]
  },
  {
   "cell_type": "code",
   "execution_count": 1,
   "metadata": {
    "execution": {
     "iopub.execute_input": "2022-02-17T14:55:12.138543Z",
     "iopub.status.busy": "2022-02-17T14:55:12.138160Z",
     "iopub.status.idle": "2022-02-17T14:55:12.143681Z",
     "shell.execute_reply": "2022-02-17T14:55:12.142645Z",
     "shell.execute_reply.started": "2022-02-17T14:55:12.138503Z"
    },
    "id": "01qzFpLmKbxA"
   },
   "outputs": [
    {
     "name": "stdout",
     "output_type": "stream",
     "text": [
      "loading Library\n"
     ]
    }
   ],
   "source": [
    "print('loading Library')\n",
    "import numpy as np\n",
    "import matplotlib.pyplot as plt\n",
    "import pandas as pd"
   ]
  },
  {
   "cell_type": "markdown",
   "metadata": {
    "id": "iZLXUWgaKv-j"
   },
   "source": [
    "### Importing the training set"
   ]
  },
  {
   "cell_type": "markdown",
   "metadata": {
    "id": "Xk3og_GXMCdd"
   },
   "source": [
    "* Training dataset contains google stock price from January 2012 to December 2016\n",
    "\n",
    "* Test dataset contains google stock price for January 2017"
   ]
  },
  {
   "cell_type": "code",
   "execution_count": 2,
   "metadata": {
    "execution": {
     "iopub.execute_input": "2022-02-17T14:55:17.014298Z",
     "iopub.status.busy": "2022-02-17T14:55:17.013804Z",
     "iopub.status.idle": "2022-02-17T14:55:17.040906Z",
     "shell.execute_reply": "2022-02-17T14:55:17.040137Z",
     "shell.execute_reply.started": "2022-02-17T14:55:17.014254Z"
    },
    "id": "9The4ldgKsw3",
    "scrolled": true
   },
   "outputs": [
    {
     "data": {
      "text/html": [
       "<div>\n",
       "<style scoped>\n",
       "    .dataframe tbody tr th:only-of-type {\n",
       "        vertical-align: middle;\n",
       "    }\n",
       "\n",
       "    .dataframe tbody tr th {\n",
       "        vertical-align: top;\n",
       "    }\n",
       "\n",
       "    .dataframe thead th {\n",
       "        text-align: right;\n",
       "    }\n",
       "</style>\n",
       "<table border=\"1\" class=\"dataframe\">\n",
       "  <thead>\n",
       "    <tr style=\"text-align: right;\">\n",
       "      <th></th>\n",
       "      <th>Date</th>\n",
       "      <th>Open</th>\n",
       "      <th>High</th>\n",
       "      <th>Low</th>\n",
       "      <th>Close</th>\n",
       "      <th>Volume</th>\n",
       "    </tr>\n",
       "  </thead>\n",
       "  <tbody>\n",
       "    <tr>\n",
       "      <th>0</th>\n",
       "      <td>1/3/2012</td>\n",
       "      <td>325.25</td>\n",
       "      <td>332.83</td>\n",
       "      <td>324.97</td>\n",
       "      <td>663.59</td>\n",
       "      <td>7,380,500</td>\n",
       "    </tr>\n",
       "    <tr>\n",
       "      <th>1</th>\n",
       "      <td>1/4/2012</td>\n",
       "      <td>331.27</td>\n",
       "      <td>333.87</td>\n",
       "      <td>329.08</td>\n",
       "      <td>666.45</td>\n",
       "      <td>5,749,400</td>\n",
       "    </tr>\n",
       "    <tr>\n",
       "      <th>2</th>\n",
       "      <td>1/5/2012</td>\n",
       "      <td>329.83</td>\n",
       "      <td>330.75</td>\n",
       "      <td>326.89</td>\n",
       "      <td>657.21</td>\n",
       "      <td>6,590,300</td>\n",
       "    </tr>\n",
       "    <tr>\n",
       "      <th>3</th>\n",
       "      <td>1/6/2012</td>\n",
       "      <td>328.34</td>\n",
       "      <td>328.77</td>\n",
       "      <td>323.68</td>\n",
       "      <td>648.24</td>\n",
       "      <td>5,405,900</td>\n",
       "    </tr>\n",
       "    <tr>\n",
       "      <th>4</th>\n",
       "      <td>1/9/2012</td>\n",
       "      <td>322.04</td>\n",
       "      <td>322.29</td>\n",
       "      <td>309.46</td>\n",
       "      <td>620.76</td>\n",
       "      <td>11,688,800</td>\n",
       "    </tr>\n",
       "  </tbody>\n",
       "</table>\n",
       "</div>"
      ],
      "text/plain": [
       "       Date    Open    High     Low   Close      Volume\n",
       "0  1/3/2012  325.25  332.83  324.97  663.59   7,380,500\n",
       "1  1/4/2012  331.27  333.87  329.08  666.45   5,749,400\n",
       "2  1/5/2012  329.83  330.75  326.89  657.21   6,590,300\n",
       "3  1/6/2012  328.34  328.77  323.68  648.24   5,405,900\n",
       "4  1/9/2012  322.04  322.29  309.46  620.76  11,688,800"
      ]
     },
     "execution_count": 2,
     "metadata": {},
     "output_type": "execute_result"
    }
   ],
   "source": [
    "dataset_train= pd.read_csv('D:\\\\Ali1\\irfan_bhai\\\\finading_stock_returns\\\\data\\\\Google_Stock_Price_Train.csv')\n",
    "dataset_train.head()"
   ]
  },
  {
   "cell_type": "code",
   "execution_count": 3,
   "metadata": {},
   "outputs": [
    {
     "data": {
      "text/plain": [
       "array([[325.25],\n",
       "       [331.27],\n",
       "       [329.83],\n",
       "       ...,\n",
       "       [793.7 ],\n",
       "       [783.33],\n",
       "       [782.75]])"
      ]
     },
     "execution_count": 3,
     "metadata": {},
     "output_type": "execute_result"
    }
   ],
   "source": [
    "training_set = dataset_train.iloc[:,1:2].values\n",
    "training_set"
   ]
  },
  {
   "cell_type": "code",
   "execution_count": 4,
   "metadata": {
    "execution": {
     "iopub.execute_input": "2022-02-17T14:55:22.027293Z",
     "iopub.status.busy": "2022-02-17T14:55:22.026982Z",
     "iopub.status.idle": "2022-02-17T14:55:22.052132Z",
     "shell.execute_reply": "2022-02-17T14:55:22.051487Z",
     "shell.execute_reply.started": "2022-02-17T14:55:22.027263Z"
    },
    "id": "bZFTbHUDLrvc",
    "outputId": "52c79794-41d0-4821-9371-e66fc63077e5"
   },
   "outputs": [
    {
     "data": {
      "text/html": [
       "<div>\n",
       "<style scoped>\n",
       "    .dataframe tbody tr th:only-of-type {\n",
       "        vertical-align: middle;\n",
       "    }\n",
       "\n",
       "    .dataframe tbody tr th {\n",
       "        vertical-align: top;\n",
       "    }\n",
       "\n",
       "    .dataframe thead th {\n",
       "        text-align: right;\n",
       "    }\n",
       "</style>\n",
       "<table border=\"1\" class=\"dataframe\">\n",
       "  <thead>\n",
       "    <tr style=\"text-align: right;\">\n",
       "      <th></th>\n",
       "      <th>Date</th>\n",
       "      <th>Open</th>\n",
       "      <th>High</th>\n",
       "      <th>Low</th>\n",
       "      <th>Close</th>\n",
       "      <th>Volume</th>\n",
       "    </tr>\n",
       "  </thead>\n",
       "  <tbody>\n",
       "    <tr>\n",
       "      <th>0</th>\n",
       "      <td>1/3/2012</td>\n",
       "      <td>325.25</td>\n",
       "      <td>332.83</td>\n",
       "      <td>324.97</td>\n",
       "      <td>663.59</td>\n",
       "      <td>7,380,500</td>\n",
       "    </tr>\n",
       "    <tr>\n",
       "      <th>1</th>\n",
       "      <td>1/4/2012</td>\n",
       "      <td>331.27</td>\n",
       "      <td>333.87</td>\n",
       "      <td>329.08</td>\n",
       "      <td>666.45</td>\n",
       "      <td>5,749,400</td>\n",
       "    </tr>\n",
       "    <tr>\n",
       "      <th>2</th>\n",
       "      <td>1/5/2012</td>\n",
       "      <td>329.83</td>\n",
       "      <td>330.75</td>\n",
       "      <td>326.89</td>\n",
       "      <td>657.21</td>\n",
       "      <td>6,590,300</td>\n",
       "    </tr>\n",
       "    <tr>\n",
       "      <th>3</th>\n",
       "      <td>1/6/2012</td>\n",
       "      <td>328.34</td>\n",
       "      <td>328.77</td>\n",
       "      <td>323.68</td>\n",
       "      <td>648.24</td>\n",
       "      <td>5,405,900</td>\n",
       "    </tr>\n",
       "    <tr>\n",
       "      <th>4</th>\n",
       "      <td>1/9/2012</td>\n",
       "      <td>322.04</td>\n",
       "      <td>322.29</td>\n",
       "      <td>309.46</td>\n",
       "      <td>620.76</td>\n",
       "      <td>11,688,800</td>\n",
       "    </tr>\n",
       "  </tbody>\n",
       "</table>\n",
       "</div>"
      ],
      "text/plain": [
       "       Date    Open    High     Low   Close      Volume\n",
       "0  1/3/2012  325.25  332.83  324.97  663.59   7,380,500\n",
       "1  1/4/2012  331.27  333.87  329.08  666.45   5,749,400\n",
       "2  1/5/2012  329.83  330.75  326.89  657.21   6,590,300\n",
       "3  1/6/2012  328.34  328.77  323.68  648.24   5,405,900\n",
       "4  1/9/2012  322.04  322.29  309.46  620.76  11,688,800"
      ]
     },
     "execution_count": 4,
     "metadata": {},
     "output_type": "execute_result"
    }
   ],
   "source": [
    "# display first 5 rows\n",
    "dataset_train.head()"
   ]
  },
  {
   "cell_type": "code",
   "execution_count": 4,
   "metadata": {
    "execution": {
     "iopub.execute_input": "2022-02-17T14:55:24.368196Z",
     "iopub.status.busy": "2022-02-17T14:55:24.367100Z",
     "iopub.status.idle": "2022-02-17T14:55:24.383595Z",
     "shell.execute_reply": "2022-02-17T14:55:24.382482Z",
     "shell.execute_reply.started": "2022-02-17T14:55:24.368127Z"
    },
    "id": "Hc4ZYQ0RL3iU",
    "outputId": "79b1b486-889a-4e3a-875b-35382db76e5b"
   },
   "outputs": [
    {
     "data": {
      "text/html": [
       "<div>\n",
       "<style scoped>\n",
       "    .dataframe tbody tr th:only-of-type {\n",
       "        vertical-align: middle;\n",
       "    }\n",
       "\n",
       "    .dataframe tbody tr th {\n",
       "        vertical-align: top;\n",
       "    }\n",
       "\n",
       "    .dataframe thead th {\n",
       "        text-align: right;\n",
       "    }\n",
       "</style>\n",
       "<table border=\"1\" class=\"dataframe\">\n",
       "  <thead>\n",
       "    <tr style=\"text-align: right;\">\n",
       "      <th></th>\n",
       "      <th>Date</th>\n",
       "      <th>Open</th>\n",
       "      <th>High</th>\n",
       "      <th>Low</th>\n",
       "      <th>Close</th>\n",
       "      <th>Volume</th>\n",
       "    </tr>\n",
       "  </thead>\n",
       "  <tbody>\n",
       "    <tr>\n",
       "      <th>1253</th>\n",
       "      <td>12/23/2016</td>\n",
       "      <td>790.90</td>\n",
       "      <td>792.74</td>\n",
       "      <td>787.28</td>\n",
       "      <td>789.91</td>\n",
       "      <td>623,400</td>\n",
       "    </tr>\n",
       "    <tr>\n",
       "      <th>1254</th>\n",
       "      <td>12/27/2016</td>\n",
       "      <td>790.68</td>\n",
       "      <td>797.86</td>\n",
       "      <td>787.66</td>\n",
       "      <td>791.55</td>\n",
       "      <td>789,100</td>\n",
       "    </tr>\n",
       "    <tr>\n",
       "      <th>1255</th>\n",
       "      <td>12/28/2016</td>\n",
       "      <td>793.70</td>\n",
       "      <td>794.23</td>\n",
       "      <td>783.20</td>\n",
       "      <td>785.05</td>\n",
       "      <td>1,153,800</td>\n",
       "    </tr>\n",
       "    <tr>\n",
       "      <th>1256</th>\n",
       "      <td>12/29/2016</td>\n",
       "      <td>783.33</td>\n",
       "      <td>785.93</td>\n",
       "      <td>778.92</td>\n",
       "      <td>782.79</td>\n",
       "      <td>744,300</td>\n",
       "    </tr>\n",
       "    <tr>\n",
       "      <th>1257</th>\n",
       "      <td>12/30/2016</td>\n",
       "      <td>782.75</td>\n",
       "      <td>782.78</td>\n",
       "      <td>770.41</td>\n",
       "      <td>771.82</td>\n",
       "      <td>1,770,000</td>\n",
       "    </tr>\n",
       "  </tbody>\n",
       "</table>\n",
       "</div>"
      ],
      "text/plain": [
       "            Date    Open    High     Low   Close     Volume\n",
       "1253  12/23/2016  790.90  792.74  787.28  789.91    623,400\n",
       "1254  12/27/2016  790.68  797.86  787.66  791.55    789,100\n",
       "1255  12/28/2016  793.70  794.23  783.20  785.05  1,153,800\n",
       "1256  12/29/2016  783.33  785.93  778.92  782.79    744,300\n",
       "1257  12/30/2016  782.75  782.78  770.41  771.82  1,770,000"
      ]
     },
     "execution_count": 4,
     "metadata": {},
     "output_type": "execute_result"
    }
   ],
   "source": [
    "# display last 5 rows\n",
    "dataset_train.tail()"
   ]
  },
  {
   "cell_type": "code",
   "execution_count": 5,
   "metadata": {
    "execution": {
     "iopub.execute_input": "2022-02-17T14:55:27.198705Z",
     "iopub.status.busy": "2022-02-17T14:55:27.198224Z",
     "iopub.status.idle": "2022-02-17T14:55:27.206840Z",
     "shell.execute_reply": "2022-02-17T14:55:27.205792Z",
     "shell.execute_reply.started": "2022-02-17T14:55:27.198669Z"
    },
    "id": "y-9jKS38NHZm",
    "outputId": "35236981-0bb4-4683-9538-25aaf5d9a043"
   },
   "outputs": [
    {
     "data": {
      "text/plain": [
       "(1258, 6)"
      ]
     },
     "execution_count": 5,
     "metadata": {},
     "output_type": "execute_result"
    }
   ],
   "source": [
    "# shape of data \n",
    "dataset_train.shape"
   ]
  },
  {
   "cell_type": "code",
   "execution_count": null,
   "metadata": {},
   "outputs": [],
   "source": [
    "# (1258, 6) = (rows, column)"
   ]
  },
  {
   "cell_type": "code",
   "execution_count": 7,
   "metadata": {
    "execution": {
     "iopub.execute_input": "2022-02-17T15:08:13.420221Z",
     "iopub.status.busy": "2022-02-17T15:08:13.419763Z",
     "iopub.status.idle": "2022-02-17T15:08:13.784312Z",
     "shell.execute_reply": "2022-02-17T15:08:13.783491Z",
     "shell.execute_reply.started": "2022-02-17T15:08:13.420176Z"
    },
    "id": "B8CXL-mIV79M",
    "outputId": "bd2d85ab-a934-4631-a394-fbc2c4c9eb36"
   },
   "outputs": [
    {
     "data": {
      "text/plain": [
       "<AxesSubplot:xlabel='Date'>"
      ]
     },
     "execution_count": 7,
     "metadata": {},
     "output_type": "execute_result"
    },
    {
     "data": {
      "image/png": "[encoded data removed]",
      "text/plain": [
       "<Figure size 1152x432 with 1 Axes>"
      ]
     },
     "metadata": {
      "needs_background": "light"
     },
     "output_type": "display_data"
    }
   ],
   "source": [
    "dataset = pd.read_csv('D:\\\\Ali1\\irfan_bhai\\\\finading_stock_returns\\\\data\\\\Google_Stock_Price_Train.csv', index_col=\"Date\", parse_dates=True)\n",
    "'''\n",
    "index_col: This is to allow you to set which columns to be used as the index of the dataframe. \n",
    "The default value is None, and pandas will add a new column start from 0 to specify the index column. \n",
    "It can be set as a column name or column index, which will be used as the index column\n",
    "\n",
    "parse_dates\n",
    "We can use the parse_dates parameter to convince pandas to turn things into real datetime types. \n",
    "parse_dates takes a list of columns (since you could want to parse multiple columns into datetimes )\n",
    "'''\n",
    "dataset['Open'].plot(figsize=(16,6))"
   ]
  },
  {
   "cell_type": "code",
   "execution_count": 8,
   "metadata": {},
   "outputs": [
    {
     "data": {
      "text/plain": [
       "<AxesSubplot:>"
      ]
     },
     "execution_count": 8,
     "metadata": {},
     "output_type": "execute_result"
    },
    {
     "data": {
      "image/png": "[encoded data removed]",
      "text/plain": [
       "<Figure size 1152x432 with 1 Axes>"
      ]
     },
     "metadata": {
      "needs_background": "light"
     },
     "output_type": "display_data"
    }
   ],
   "source": [
    "dataset_train['High'].plot(figsize=(16,6))"
   ]
  },
  {
   "cell_type": "code",
   "execution_count": 9,
   "metadata": {},
   "outputs": [
    {
     "data": {
      "image/png": "[encoded data removed]",
      "text/plain": [
       "<Figure size 1440x1440 with 2 Axes>"
      ]
     },
     "metadata": {
      "needs_background": "light"
     },
     "output_type": "display_data"
    }
   ],
   "source": [
    "### heatmap\n",
    "import seaborn as sns\n",
    "\n",
    "# sns.heatmap(dataset_train, annot=True)\n",
    "'''\n",
    "A heatmap is a two-dimensional graphical representation of data where the individual values that are contained in a \n",
    "matrix are represented as colours. The Seaborn package allows the creation of annotated heatmaps which can be tweaked \n",
    "using Matplotlib tools as per the creator's requirement.\n",
    "'''\n",
    "#obtain the correlation of each feature in dataset\n",
    "dataset_train_corrmat = dataset_train.corr()\n",
    "\n",
    "#define figure size\n",
    "plt.figure(figsize=(20,20))\n",
    "#plot heat map\n",
    "sns.heatmap(dataset_train_corrmat,annot=True,cmap='RdYlGn')\n",
    "plt.show()"
   ]
  },
  {
   "cell_type": "code",
   "execution_count": 11,
   "metadata": {},
   "outputs": [
    {
     "data": {
      "image/png": "[encoded data removed]",
      "text/plain": [
       "<Figure size 1008x1008 with 4 Axes>"
      ]
     },
     "metadata": {},
     "output_type": "display_data"
    }
   ],
   "source": [
    "#define figure size\n",
    "sns.set(rc={\"figure.figsize\":(14, 14)})\n",
    "\n",
    "dataset_train.hist()\n",
    "plt.show()"
   ]
  },
  {
   "cell_type": "code",
   "execution_count": 38,
   "metadata": {},
   "outputs": [
    {
     "name": "stdout",
     "output_type": "stream",
     "text": [
      "0       324.97\n",
      "1       329.08\n",
      "2       326.89\n",
      "3       323.68\n",
      "4       309.46\n",
      "         ...  \n",
      "1253    787.28\n",
      "1254    787.66\n",
      "1255    783.20\n",
      "1256    778.92\n",
      "1257    770.41\n",
      "Name: Low, Length: 1258, dtype: float64\n"
     ]
    }
   ],
   "source": [
    "goog = pd.read_csv('D:\\\\Ali1\\irfan_bhai\\\\finading_stock_returns\\\\data\\\\Google_Stock_Price_Train.csv')#,start='3/14/2009', end='4/14/2014’)\n",
    "# goog.tail()\n",
    "\n",
    "print(goog.Low)"
   ]
  },
  {
   "cell_type": "code",
   "execution_count": 33,
   "metadata": {},
   "outputs": [
    {
     "data": {
      "text/html": [
       "<div>\n",
       "<style scoped>\n",
       "    .dataframe tbody tr th:only-of-type {\n",
       "        vertical-align: middle;\n",
       "    }\n",
       "\n",
       "    .dataframe tbody tr th {\n",
       "        vertical-align: top;\n",
       "    }\n",
       "\n",
       "    .dataframe thead th {\n",
       "        text-align: right;\n",
       "    }\n",
       "</style>\n",
       "<table border=\"1\" class=\"dataframe\">\n",
       "  <thead>\n",
       "    <tr style=\"text-align: right;\">\n",
       "      <th></th>\n",
       "      <th>Date</th>\n",
       "      <th>Open</th>\n",
       "      <th>High</th>\n",
       "      <th>Low</th>\n",
       "      <th>Close</th>\n",
       "      <th>Volume</th>\n",
       "    </tr>\n",
       "  </thead>\n",
       "  <tbody>\n",
       "    <tr>\n",
       "      <th>0</th>\n",
       "      <td>False</td>\n",
       "      <td>False</td>\n",
       "      <td>False</td>\n",
       "      <td>False</td>\n",
       "      <td>False</td>\n",
       "      <td>False</td>\n",
       "    </tr>\n",
       "    <tr>\n",
       "      <th>1</th>\n",
       "      <td>False</td>\n",
       "      <td>False</td>\n",
       "      <td>False</td>\n",
       "      <td>False</td>\n",
       "      <td>False</td>\n",
       "      <td>False</td>\n",
       "    </tr>\n",
       "    <tr>\n",
       "      <th>2</th>\n",
       "      <td>False</td>\n",
       "      <td>False</td>\n",
       "      <td>False</td>\n",
       "      <td>False</td>\n",
       "      <td>False</td>\n",
       "      <td>False</td>\n",
       "    </tr>\n",
       "    <tr>\n",
       "      <th>3</th>\n",
       "      <td>False</td>\n",
       "      <td>False</td>\n",
       "      <td>False</td>\n",
       "      <td>False</td>\n",
       "      <td>False</td>\n",
       "      <td>False</td>\n",
       "    </tr>\n",
       "    <tr>\n",
       "      <th>4</th>\n",
       "      <td>False</td>\n",
       "      <td>False</td>\n",
       "      <td>False</td>\n",
       "      <td>False</td>\n",
       "      <td>False</td>\n",
       "      <td>False</td>\n",
       "    </tr>\n",
       "    <tr>\n",
       "      <th>...</th>\n",
       "      <td>...</td>\n",
       "      <td>...</td>\n",
       "      <td>...</td>\n",
       "      <td>...</td>\n",
       "      <td>...</td>\n",
       "      <td>...</td>\n",
       "    </tr>\n",
       "    <tr>\n",
       "      <th>1253</th>\n",
       "      <td>False</td>\n",
       "      <td>False</td>\n",
       "      <td>False</td>\n",
       "      <td>False</td>\n",
       "      <td>False</td>\n",
       "      <td>False</td>\n",
       "    </tr>\n",
       "    <tr>\n",
       "      <th>1254</th>\n",
       "      <td>False</td>\n",
       "      <td>False</td>\n",
       "      <td>False</td>\n",
       "      <td>False</td>\n",
       "      <td>False</td>\n",
       "      <td>False</td>\n",
       "    </tr>\n",
       "    <tr>\n",
       "      <th>1255</th>\n",
       "      <td>False</td>\n",
       "      <td>False</td>\n",
       "      <td>False</td>\n",
       "      <td>False</td>\n",
       "      <td>False</td>\n",
       "      <td>False</td>\n",
       "    </tr>\n",
       "    <tr>\n",
       "      <th>1256</th>\n",
       "      <td>False</td>\n",
       "      <td>False</td>\n",
       "      <td>False</td>\n",
       "      <td>False</td>\n",
       "      <td>False</td>\n",
       "      <td>False</td>\n",
       "    </tr>\n",
       "    <tr>\n",
       "      <th>1257</th>\n",
       "      <td>False</td>\n",
       "      <td>False</td>\n",
       "      <td>False</td>\n",
       "      <td>False</td>\n",
       "      <td>False</td>\n",
       "      <td>False</td>\n",
       "    </tr>\n",
       "  </tbody>\n",
       "</table>\n",
       "<p>1258 rows × 6 columns</p>\n",
       "</div>"
      ],
      "text/plain": [
       "       Date   Open   High    Low  Close  Volume\n",
       "0     False  False  False  False  False   False\n",
       "1     False  False  False  False  False   False\n",
       "2     False  False  False  False  False   False\n",
       "3     False  False  False  False  False   False\n",
       "4     False  False  False  False  False   False\n",
       "...     ...    ...    ...    ...    ...     ...\n",
       "1253  False  False  False  False  False   False\n",
       "1254  False  False  False  False  False   False\n",
       "1255  False  False  False  False  False   False\n",
       "1256  False  False  False  False  False   False\n",
       "1257  False  False  False  False  False   False\n",
       "\n",
       "[1258 rows x 6 columns]"
      ]
     },
     "execution_count": 33,
     "metadata": {},
     "output_type": "execute_result"
    }
   ],
   "source": [
    "goog.isna()"
   ]
  },
  {
   "cell_type": "code",
   "execution_count": 34,
   "metadata": {},
   "outputs": [
    {
     "data": {
      "text/html": [
       "<div>\n",
       "<style scoped>\n",
       "    .dataframe tbody tr th:only-of-type {\n",
       "        vertical-align: middle;\n",
       "    }\n",
       "\n",
       "    .dataframe tbody tr th {\n",
       "        vertical-align: top;\n",
       "    }\n",
       "\n",
       "    .dataframe thead th {\n",
       "        text-align: right;\n",
       "    }\n",
       "</style>\n",
       "<table border=\"1\" class=\"dataframe\">\n",
       "  <thead>\n",
       "    <tr style=\"text-align: right;\">\n",
       "      <th></th>\n",
       "      <th>Date</th>\n",
       "      <th>Open</th>\n",
       "      <th>High</th>\n",
       "      <th>Low</th>\n",
       "      <th>Close</th>\n",
       "      <th>Volume</th>\n",
       "    </tr>\n",
       "  </thead>\n",
       "  <tbody>\n",
       "    <tr>\n",
       "      <th>0</th>\n",
       "      <td>False</td>\n",
       "      <td>False</td>\n",
       "      <td>False</td>\n",
       "      <td>False</td>\n",
       "      <td>False</td>\n",
       "      <td>False</td>\n",
       "    </tr>\n",
       "    <tr>\n",
       "      <th>1</th>\n",
       "      <td>False</td>\n",
       "      <td>False</td>\n",
       "      <td>False</td>\n",
       "      <td>False</td>\n",
       "      <td>False</td>\n",
       "      <td>False</td>\n",
       "    </tr>\n",
       "    <tr>\n",
       "      <th>2</th>\n",
       "      <td>False</td>\n",
       "      <td>False</td>\n",
       "      <td>False</td>\n",
       "      <td>False</td>\n",
       "      <td>False</td>\n",
       "      <td>False</td>\n",
       "    </tr>\n",
       "    <tr>\n",
       "      <th>3</th>\n",
       "      <td>False</td>\n",
       "      <td>False</td>\n",
       "      <td>False</td>\n",
       "      <td>False</td>\n",
       "      <td>False</td>\n",
       "      <td>False</td>\n",
       "    </tr>\n",
       "    <tr>\n",
       "      <th>4</th>\n",
       "      <td>False</td>\n",
       "      <td>False</td>\n",
       "      <td>False</td>\n",
       "      <td>False</td>\n",
       "      <td>False</td>\n",
       "      <td>False</td>\n",
       "    </tr>\n",
       "    <tr>\n",
       "      <th>...</th>\n",
       "      <td>...</td>\n",
       "      <td>...</td>\n",
       "      <td>...</td>\n",
       "      <td>...</td>\n",
       "      <td>...</td>\n",
       "      <td>...</td>\n",
       "    </tr>\n",
       "    <tr>\n",
       "      <th>1253</th>\n",
       "      <td>False</td>\n",
       "      <td>False</td>\n",
       "      <td>False</td>\n",
       "      <td>False</td>\n",
       "      <td>False</td>\n",
       "      <td>False</td>\n",
       "    </tr>\n",
       "    <tr>\n",
       "      <th>1254</th>\n",
       "      <td>False</td>\n",
       "      <td>False</td>\n",
       "      <td>False</td>\n",
       "      <td>False</td>\n",
       "      <td>False</td>\n",
       "      <td>False</td>\n",
       "    </tr>\n",
       "    <tr>\n",
       "      <th>1255</th>\n",
       "      <td>False</td>\n",
       "      <td>False</td>\n",
       "      <td>False</td>\n",
       "      <td>False</td>\n",
       "      <td>False</td>\n",
       "      <td>False</td>\n",
       "    </tr>\n",
       "    <tr>\n",
       "      <th>1256</th>\n",
       "      <td>False</td>\n",
       "      <td>False</td>\n",
       "      <td>False</td>\n",
       "      <td>False</td>\n",
       "      <td>False</td>\n",
       "      <td>False</td>\n",
       "    </tr>\n",
       "    <tr>\n",
       "      <th>1257</th>\n",
       "      <td>False</td>\n",
       "      <td>False</td>\n",
       "      <td>False</td>\n",
       "      <td>False</td>\n",
       "      <td>False</td>\n",
       "      <td>False</td>\n",
       "    </tr>\n",
       "  </tbody>\n",
       "</table>\n",
       "<p>1258 rows × 6 columns</p>\n",
       "</div>"
      ],
      "text/plain": [
       "       Date   Open   High    Low  Close  Volume\n",
       "0     False  False  False  False  False   False\n",
       "1     False  False  False  False  False   False\n",
       "2     False  False  False  False  False   False\n",
       "3     False  False  False  False  False   False\n",
       "4     False  False  False  False  False   False\n",
       "...     ...    ...    ...    ...    ...     ...\n",
       "1253  False  False  False  False  False   False\n",
       "1254  False  False  False  False  False   False\n",
       "1255  False  False  False  False  False   False\n",
       "1256  False  False  False  False  False   False\n",
       "1257  False  False  False  False  False   False\n",
       "\n",
       "[1258 rows x 6 columns]"
      ]
     },
     "execution_count": 34,
     "metadata": {},
     "output_type": "execute_result"
    }
   ],
   "source": [
    "goog.isnull()"
   ]
  },
  {
   "cell_type": "code",
   "execution_count": 20,
   "metadata": {},
   "outputs": [
    {
     "data": {
      "text/plain": [
       "<AxesSubplot:>"
      ]
     },
     "execution_count": 20,
     "metadata": {},
     "output_type": "execute_result"
    },
    {
     "data": {
      "image/png": "[encoded data removed]",
      "text/plain": [
       "<Figure size 432x288 with 1 Axes>"
      ]
     },
     "metadata": {
      "needs_background": "light"
     },
     "output_type": "display_data"
    }
   ],
   "source": [
    "df = pd.read_csv('D:\\\\Ali1\\irfan_bhai\\\\finading_stock_returns\\\\data\\\\Google_Stock_Price_Train.csv')\n",
    "df['close'] = df['Low']\n",
    "df['log_ret'] = np.log(df['close'].astype('float64')/df['close'].astype('float64').shift(1))\n",
    "df[['Close', 'log_ret']].plot()"
   ]
  },
  {
   "cell_type": "code",
   "execution_count": 34,
   "metadata": {},
   "outputs": [
    {
     "name": "stdout",
     "output_type": "stream",
     "text": [
      "Bollinger High 0       1281.771445\n",
      "1       1281.771445\n",
      "2       1281.771445\n",
      "3       1281.771445\n",
      "4       1281.771445\n",
      "           ...     \n",
      "1253    1281.771445\n",
      "1254    1281.771445\n",
      "1255    1281.771445\n",
      "1256    1281.771445\n",
      "1257    1281.771445\n",
      "Name: Bollinger High, Length: 1258, dtype: float64 \n",
      " \n",
      "\n",
      "Bollinger High 0       1281.771445\n",
      "1       1281.771445\n",
      "2       1281.771445\n",
      "3       1281.771445\n",
      "4       1281.771445\n",
      "           ...     \n",
      "1253    1281.771445\n",
      "1254    1281.771445\n",
      "1255    1281.771445\n",
      "1256    1281.771445\n",
      "1257    1281.771445\n",
      "Name: Bollinger High, Length: 1258, dtype: float64 \n",
      " \n",
      "\n",
      "Volatility 0       2389.951724\n",
      "1       2389.951724\n",
      "2       2389.951724\n",
      "3       2389.951724\n",
      "4       2389.951724\n",
      "           ...     \n",
      "1253    2389.951724\n",
      "1254    2389.951724\n",
      "1255    2389.951724\n",
      "1256    2389.951724\n",
      "1257    2389.951724\n",
      "Name: Volatility, Length: 1258, dtype: float64\n"
     ]
    }
   ],
   "source": [
    "import pandas as pd\n",
    "from pandas_datareader import data as pdr\n",
    "import numpy as np\n",
    "import datetime\n",
    "\n",
    "\n",
    "no_of_std = 5\n",
    "rolling_mean = df['close'].mean()\n",
    "rolling_std = df['close'].std()\n",
    "\n",
    "df['Bollinger High'] = rolling_mean + (rolling_std * no_of_std)\n",
    "print('Bollinger High', df['Bollinger High'], '\\n','\\n')\n",
    "df['Bollinger Low'] = rolling_mean - (rolling_std * no_of_std) \n",
    "print('Bollinger High', df['Bollinger High'], '\\n','\\n')\n",
    "\n",
    "\n",
    "# goog[‘Volatility’] = pd.rolling_std(goog[‘Log_Ret’],window=252) * np.sqrt(252)\n",
    "\n",
    "df['roll_std'] = df['close'].std()\n",
    "\n",
    "df['Volatility'] = df['roll_std'] * np.sqrt(252)\n",
    "print('Volatility', df['Volatility'])"
   ]
  },
  {
   "cell_type": "code",
   "execution_count": 37,
   "metadata": {},
   "outputs": [
    {
     "data": {
      "text/plain": [
       "array([<AxesSubplot:>, <AxesSubplot:>], dtype=object)"
      ]
     },
     "execution_count": 37,
     "metadata": {},
     "output_type": "execute_result"
    },
    {
     "data": {
      "image/png": "[encoded data removed]",
      "text/plain": [
       "<Figure size 576x432 with 2 Axes>"
      ]
     },
     "metadata": {
      "needs_background": "light"
     },
     "output_type": "display_data"
    }
   ],
   "source": [
    "df[['close', 'Volatility']].plot(subplots=True, color='blue',figsize=(8, 6))"
   ]
  },
  {
   "cell_type": "code",
   "execution_count": 6,
   "metadata": {},
   "outputs": [
    {
     "data": {
      "text/html": [
       "<div>\n",
       "<style scoped>\n",
       "    .dataframe tbody tr th:only-of-type {\n",
       "        vertical-align: middle;\n",
       "    }\n",
       "\n",
       "    .dataframe tbody tr th {\n",
       "        vertical-align: top;\n",
       "    }\n",
       "\n",
       "    .dataframe thead th {\n",
       "        text-align: right;\n",
       "    }\n",
       "</style>\n",
       "<table border=\"1\" class=\"dataframe\">\n",
       "  <thead>\n",
       "    <tr style=\"text-align: right;\">\n",
       "      <th></th>\n",
       "      <th>price</th>\n",
       "    </tr>\n",
       "  </thead>\n",
       "  <tbody>\n",
       "    <tr>\n",
       "      <th>0</th>\n",
       "      <td>101.764052</td>\n",
       "    </tr>\n",
       "    <tr>\n",
       "      <th>1</th>\n",
       "      <td>102.164210</td>\n",
       "    </tr>\n",
       "    <tr>\n",
       "      <th>2</th>\n",
       "      <td>103.142948</td>\n",
       "    </tr>\n",
       "    <tr>\n",
       "      <th>3</th>\n",
       "      <td>105.383841</td>\n",
       "    </tr>\n",
       "    <tr>\n",
       "      <th>4</th>\n",
       "      <td>107.251399</td>\n",
       "    </tr>\n",
       "  </tbody>\n",
       "</table>\n",
       "</div>"
      ],
      "text/plain": [
       "        price\n",
       "0  101.764052\n",
       "1  102.164210\n",
       "2  103.142948\n",
       "3  105.383841\n",
       "4  107.251399"
      ]
     },
     "execution_count": 6,
     "metadata": {},
     "output_type": "execute_result"
    }
   ],
   "source": [
    "# finding log_ret on a random generated data\n",
    "import pandas as pd\n",
    "import numpy as np\n",
    "\n",
    "np.random.seed(0)\n",
    "df = pd.DataFrame(100 + np.random.randn(100).cumsum(), columns=['price'])\n",
    "df.head()"
   ]
  },
  {
   "cell_type": "code",
   "execution_count": 8,
   "metadata": {},
   "outputs": [
    {
     "data": {
      "text/plain": [
       "0          NaN\n",
       "1     0.003924\n",
       "2     0.009534\n",
       "3     0.021493\n",
       "4     0.017566\n",
       "        ...   \n",
       "95    0.006840\n",
       "96    0.000101\n",
       "97    0.017080\n",
       "98    0.001203\n",
       "99    0.003800\n",
       "Name: log_ret, Length: 100, dtype: float64"
      ]
     },
     "execution_count": 8,
     "metadata": {},
     "output_type": "execute_result"
    }
   ],
   "source": [
    "df['pct_change'] = df.price.pct_change()\n",
    "df['log_ret'] = np.log(df.price) - np.log(df.price.shift(1))\n",
    "df['log_ret']"
   ]
  },
  {
   "cell_type": "code",
   "execution_count": 9,
   "metadata": {},
   "outputs": [
    {
     "data": {
      "text/plain": [
       "0         NaN\n",
       "1    0.003924\n",
       "2    0.009534\n",
       "3    0.021493\n",
       "4    0.017566\n",
       "Name: log_ret, dtype: float64"
      ]
     },
     "execution_count": 9,
     "metadata": {},
     "output_type": "execute_result"
    }
   ],
   "source": [
    "df['log_ret'].head()"
   ]
  },
  {
   "cell_type": "code",
   "execution_count": 10,
   "metadata": {},
   "outputs": [
    {
     "data": {
      "text/plain": [
       "95    0.006840\n",
       "96    0.000101\n",
       "97    0.017080\n",
       "98    0.001203\n",
       "99    0.003800\n",
       "Name: log_ret, dtype: float64"
      ]
     },
     "execution_count": 10,
     "metadata": {},
     "output_type": "execute_result"
    }
   ],
   "source": [
    "df['log_ret'].tail()"
   ]
  },
  {
   "cell_type": "code",
   "execution_count": 40,
   "metadata": {},
   "outputs": [
    {
     "data": {
      "image/png": "[encoded data removed]",
      "text/plain": [
       "<Figure size 432x288 with 1 Axes>"
      ]
     },
     "metadata": {
      "needs_background": "light"
     },
     "output_type": "display_data"
    }
   ],
   "source": [
    "import pandas as pd\n",
    "\n",
    "df = pd.DataFrame({'p': range(10)})\n",
    "\n",
    "df['pct_change'] = df.pct_change()\n",
    "df['log_ret'] = np.log(df['p'].astype('float64')/df['p'].astype('float64').shift(1))\n",
    "df[['pct_change', 'log_ret']].plot();"
   ]
  },
  {
   "cell_type": "markdown",
   "metadata": {
    "id": "7Y2owdbyNaFJ"
   },
   "source": [
    "### Feature Scaling "
   ]
  },
  {
   "cell_type": "code",
   "execution_count": 39,
   "metadata": {
    "execution": {
     "iopub.execute_input": "2022-02-17T14:55:39.753752Z",
     "iopub.status.busy": "2022-02-17T14:55:39.753277Z",
     "iopub.status.idle": "2022-02-17T14:55:40.799271Z",
     "shell.execute_reply": "2022-02-17T14:55:40.798635Z",
     "shell.execute_reply.started": "2022-02-17T14:55:39.753689Z"
    },
    "id": "CTB0skKSNbXY",
    "scrolled": true
   },
   "outputs": [
    {
     "ename": "NameError",
     "evalue": "name 'training_set' is not defined",
     "output_type": "error",
     "traceback": [
      "\u001b[1;31m---------------------------------------------------------------------------\u001b[0m",
      "\u001b[1;31mNameError\u001b[0m                                 Traceback (most recent call last)",
      "Input \u001b[1;32mIn [39]\u001b[0m, in \u001b[0;36m<cell line: 3>\u001b[1;34m()\u001b[0m\n\u001b[0;32m      1\u001b[0m \u001b[38;5;28;01mfrom\u001b[39;00m \u001b[38;5;21;01msklearn\u001b[39;00m\u001b[38;5;21;01m.\u001b[39;00m\u001b[38;5;21;01mpreprocessing\u001b[39;00m \u001b[38;5;28;01mimport\u001b[39;00m MinMaxScaler\n\u001b[0;32m      2\u001b[0m sc \u001b[38;5;241m=\u001b[39m MinMaxScaler(feature_range\u001b[38;5;241m=\u001b[39m(\u001b[38;5;241m0\u001b[39m,\u001b[38;5;241m1\u001b[39m))\n\u001b[1;32m----> 3\u001b[0m training_set_scaled \u001b[38;5;241m=\u001b[39m sc\u001b[38;5;241m.\u001b[39mfit_transform(\u001b[43mtraining_set\u001b[49m)\n",
      "\u001b[1;31mNameError\u001b[0m: name 'training_set' is not defined"
     ]
    }
   ],
   "source": [
    "from sklearn.preprocessing import MinMaxScaler\n",
    "sc = MinMaxScaler(feature_range=(0,1))\n",
    "training_set_scaled = sc.fit_transform(training_set)"
   ]
  },
  {
   "cell_type": "markdown",
   "metadata": {
    "id": "6Xo9YsBaONWM"
   },
   "source": [
    "## Creating a data structure with 60 timesteps and 1 output"
   ]
  },
  {
   "cell_type": "markdown",
   "metadata": {
    "id": "FIr8sFbFN0Xp"
   },
   "source": [
    "Timesteps = 60\n",
    "\n",
    "60 time steps means that at each time 't' the RNN is going to look at the 60 stock prices.\n",
    "\n",
    "Before time 't' that is the stock price is between 60 days before time 't' .\n",
    "\n",
    "And based on the trends it is capturing during the 60 time steps will try to predict the next output. \n",
    "\n",
    "So 60 time steps are the past information from which our RNN is going to try to learn and understand some correlations or some trends.\n",
    "\n",
    "\n",
    "\n"
   ]
  },
  {
   "cell_type": "code",
   "execution_count": 9,
   "metadata": {
    "execution": {
     "iopub.execute_input": "2022-02-17T14:55:45.853703Z",
     "iopub.status.busy": "2022-02-17T14:55:45.852400Z",
     "iopub.status.idle": "2022-02-17T14:55:45.863657Z",
     "shell.execute_reply": "2022-02-17T14:55:45.862777Z",
     "shell.execute_reply.started": "2022-02-17T14:55:45.853649Z"
    },
    "id": "9_0FB5GcOfnW"
   },
   "outputs": [],
   "source": [
    "X_train = []\n",
    "y_train = []\n",
    "\n",
    "for i in range(60, 1258):\n",
    "    X_train.append(training_set_scaled[i-60:i,0])\n",
    "    y_train.append(training_set_scaled[i,0])\n",
    "    \n",
    "X_train, y_train = np.array(X_train), np.array(y_train)"
   ]
  },
  {
   "cell_type": "code",
   "execution_count": 10,
   "metadata": {
    "execution": {
     "iopub.execute_input": "2022-02-17T14:55:48.868665Z",
     "iopub.status.busy": "2022-02-17T14:55:48.868071Z",
     "iopub.status.idle": "2022-02-17T14:55:48.873456Z",
     "shell.execute_reply": "2022-02-17T14:55:48.872823Z",
     "shell.execute_reply.started": "2022-02-17T14:55:48.868614Z"
    },
    "id": "YQ5YD7nNO6fv"
   },
   "outputs": [],
   "source": [
    "#Reshaping\n",
    "\n",
    "X_train = np.reshape(X_train,(X_train.shape[0],X_train.shape[1], 1))"
   ]
  },
  {
   "cell_type": "markdown",
   "metadata": {
    "id": "Nzt6zAGMPHly"
   },
   "source": [
    "### Building the RNN"
   ]
  },
  {
   "cell_type": "code",
   "execution_count": 11,
   "metadata": {
    "execution": {
     "iopub.execute_input": "2022-02-17T14:55:51.686932Z",
     "iopub.status.busy": "2022-02-17T14:55:51.686393Z",
     "iopub.status.idle": "2022-02-17T14:55:57.550068Z",
     "shell.execute_reply": "2022-02-17T14:55:57.549067Z",
     "shell.execute_reply.started": "2022-02-17T14:55:51.686890Z"
    },
    "id": "83hc-s5KPK_n"
   },
   "outputs": [],
   "source": [
    "from keras.models import Sequential # Sequential Model\n",
    "from keras.layers import Dense\n",
    "from keras.layers import LSTM\n",
    "from keras.layers import Dropout #to avoid overfitting"
   ]
  },
  {
   "cell_type": "code",
   "execution_count": 12,
   "metadata": {
    "execution": {
     "iopub.execute_input": "2022-02-17T14:56:00.865870Z",
     "iopub.status.busy": "2022-02-17T14:56:00.865080Z",
     "iopub.status.idle": "2022-02-17T14:56:01.937331Z",
     "shell.execute_reply": "2022-02-17T14:56:01.936339Z",
     "shell.execute_reply.started": "2022-02-17T14:56:00.865801Z"
    },
    "id": "ZT0lxCLpRjlJ"
   },
   "outputs": [
    {
     "name": "stderr",
     "output_type": "stream",
     "text": [
      "2022-02-17 14:56:00.907875: I tensorflow/core/common_runtime/process_util.cc:146] Creating new thread pool with default inter op setting: 2. Tune using inter_op_parallelism_threads for best performance.\n"
     ]
    }
   ],
   "source": [
    "# since predicting a continuous value, dealing with continuous values\n",
    "regressor = Sequential() \n",
    "    \n",
    "#adding first LSTM and dropout to avoid overfitting\n",
    "# since we are going to add another LSTM layer\n",
    "regressor.add(LSTM(units = 50, return_sequences=True, input_shape = (X_train.shape[1], 1))) \n",
    "regressor.add(Dropout(0.2))\n",
    "    \n",
    "#adding second LSTM and dropout to avoid overfitting\n",
    "regressor.add(LSTM(units = 50, return_sequences=True)) \n",
    "regressor.add(Dropout(0.2))\n",
    "     \n",
    "#adding third LSTM and dropout to avoid overfitting\n",
    "regressor.add(LSTM(units = 50, return_sequences=True)) \n",
    "regressor.add(Dropout(0.2))\n",
    "     \n",
    "#adding fourth LSTM and dropout to avoid overfitting\n",
    "regressor.add(LSTM(units = 50)) \n",
    "regressor.add(Dropout(0.2))\n",
    "    \n",
    "#adding the output layer\n",
    "regressor.add(Dense(units=1))"
   ]
  },
  {
   "cell_type": "code",
   "execution_count": 13,
   "metadata": {
    "execution": {
     "iopub.execute_input": "2022-02-17T14:56:03.266452Z",
     "iopub.status.busy": "2022-02-17T14:56:03.265058Z",
     "iopub.status.idle": "2022-02-17T14:56:03.288735Z",
     "shell.execute_reply": "2022-02-17T14:56:03.288029Z",
     "shell.execute_reply.started": "2022-02-17T14:56:03.266396Z"
    },
    "id": "cHDIbCiDSDI0"
   },
   "outputs": [],
   "source": [
    "#compiling the RNN\n",
    "\n",
    "regressor.compile(optimizer='adam', loss = 'mean_squared_error')   "
   ]
  },
  {
   "cell_type": "code",
   "execution_count": 14,
   "metadata": {
    "execution": {
     "iopub.execute_input": "2022-02-17T14:56:06.202867Z",
     "iopub.status.busy": "2022-02-17T14:56:06.201949Z",
     "iopub.status.idle": "2022-02-17T15:08:11.516354Z",
     "shell.execute_reply": "2022-02-17T15:08:11.515325Z",
     "shell.execute_reply.started": "2022-02-17T14:56:06.202814Z"
    },
    "id": "2xL4NwRuS3vd",
    "outputId": "282011f9-808a-45f9-adb7-180be253231f"
   },
   "outputs": [
    {
     "name": "stderr",
     "output_type": "stream",
     "text": [
      "2022-02-17 14:56:06.266672: I tensorflow/compiler/mlir/mlir_graph_optimization_pass.cc:185] None of the MLIR Optimization Passes are enabled (registered 2)\n"
     ]
    },
    {
     "name": "stdout",
     "output_type": "stream",
     "text": [
      "Epoch 1/100\n",
      "38/38 [==============================] - 15s 186ms/step - loss: 0.0344\n",
      "Epoch 2/100\n",
      "38/38 [==============================] - 7s 188ms/step - loss: 0.0066\n",
      "Epoch 3/100\n",
      "38/38 [==============================] - 8s 202ms/step - loss: 0.0055\n",
      "Epoch 4/100\n",
      "38/38 [==============================] - 7s 189ms/step - loss: 0.0049\n",
      "Epoch 5/100\n",
      "38/38 [==============================] - 7s 183ms/step - loss: 0.0044\n",
      "Epoch 6/100\n",
      "38/38 [==============================] - 7s 185ms/step - loss: 0.0046\n",
      "Epoch 7/100\n",
      "38/38 [==============================] - 7s 198ms/step - loss: 0.0053\n",
      "Epoch 8/100\n",
      "38/38 [==============================] - 7s 186ms/step - loss: 0.0041\n",
      "Epoch 9/100\n",
      "38/38 [==============================] - 7s 189ms/step - loss: 0.0048\n",
      "Epoch 10/100\n",
      "38/38 [==============================] - 7s 184ms/step - loss: 0.0043\n",
      "Epoch 11/100\n",
      "38/38 [==============================] - 7s 186ms/step - loss: 0.0038\n",
      "Epoch 12/100\n",
      "38/38 [==============================] - 8s 208ms/step - loss: 0.0038\n",
      "Epoch 13/100\n",
      "38/38 [==============================] - 7s 186ms/step - loss: 0.0041\n",
      "Epoch 14/100\n",
      "38/38 [==============================] - 7s 187ms/step - loss: 0.0043\n",
      "Epoch 15/100\n",
      "38/38 [==============================] - 7s 187ms/step - loss: 0.0035\n",
      "Epoch 16/100\n",
      "38/38 [==============================] - 8s 198ms/step - loss: 0.0037\n",
      "Epoch 17/100\n",
      "38/38 [==============================] - 7s 187ms/step - loss: 0.0038\n",
      "Epoch 18/100\n",
      "38/38 [==============================] - 7s 187ms/step - loss: 0.0034\n",
      "Epoch 19/100\n",
      "38/38 [==============================] - 7s 185ms/step - loss: 0.0038\n",
      "Epoch 20/100\n",
      "38/38 [==============================] - 8s 210ms/step - loss: 0.0035\n",
      "Epoch 21/100\n",
      "38/38 [==============================] - 7s 194ms/step - loss: 0.0033\n",
      "Epoch 22/100\n",
      "38/38 [==============================] - 7s 191ms/step - loss: 0.0034\n",
      "Epoch 23/100\n",
      "38/38 [==============================] - 7s 190ms/step - loss: 0.0031\n",
      "Epoch 24/100\n",
      "38/38 [==============================] - 7s 185ms/step - loss: 0.0033\n",
      "Epoch 25/100\n",
      "38/38 [==============================] - 8s 198ms/step - loss: 0.0031\n",
      "Epoch 26/100\n",
      "38/38 [==============================] - 7s 184ms/step - loss: 0.0031\n",
      "Epoch 27/100\n",
      "38/38 [==============================] - 7s 185ms/step - loss: 0.0030\n",
      "Epoch 28/100\n",
      "38/38 [==============================] - 7s 185ms/step - loss: 0.0030\n",
      "Epoch 29/100\n",
      "38/38 [==============================] - 8s 201ms/step - loss: 0.0029\n",
      "Epoch 30/100\n",
      "38/38 [==============================] - 7s 185ms/step - loss: 0.0028\n",
      "Epoch 31/100\n",
      "38/38 [==============================] - 7s 184ms/step - loss: 0.0028\n",
      "Epoch 32/100\n",
      "38/38 [==============================] - 7s 187ms/step - loss: 0.0027\n",
      "Epoch 33/100\n",
      "38/38 [==============================] - 7s 188ms/step - loss: 0.0030\n",
      "Epoch 34/100\n",
      "38/38 [==============================] - 8s 198ms/step - loss: 0.0026\n",
      "Epoch 35/100\n",
      "38/38 [==============================] - 7s 186ms/step - loss: 0.0032\n",
      "Epoch 36/100\n",
      "38/38 [==============================] - 7s 184ms/step - loss: 0.0026\n",
      "Epoch 37/100\n",
      "38/38 [==============================] - 7s 184ms/step - loss: 0.0028\n",
      "Epoch 38/100\n",
      "38/38 [==============================] - 8s 199ms/step - loss: 0.0025\n",
      "Epoch 39/100\n",
      "38/38 [==============================] - 7s 185ms/step - loss: 0.0024\n",
      "Epoch 40/100\n",
      "38/38 [==============================] - 7s 187ms/step - loss: 0.0026\n",
      "Epoch 41/100\n",
      "38/38 [==============================] - 7s 185ms/step - loss: 0.0024\n",
      "Epoch 42/100\n",
      "38/38 [==============================] - 7s 183ms/step - loss: 0.0023\n",
      "Epoch 43/100\n",
      "38/38 [==============================] - 8s 198ms/step - loss: 0.0024\n",
      "Epoch 44/100\n",
      "38/38 [==============================] - 7s 184ms/step - loss: 0.0023\n",
      "Epoch 45/100\n",
      "38/38 [==============================] - 7s 182ms/step - loss: 0.0027\n",
      "Epoch 46/100\n",
      "38/38 [==============================] - 7s 190ms/step - loss: 0.0025\n",
      "Epoch 47/100\n",
      "38/38 [==============================] - 8s 198ms/step - loss: 0.0023\n",
      "Epoch 48/100\n",
      "38/38 [==============================] - 7s 183ms/step - loss: 0.0028\n",
      "Epoch 49/100\n",
      "38/38 [==============================] - 7s 184ms/step - loss: 0.0024\n",
      "Epoch 50/100\n",
      "38/38 [==============================] - 7s 184ms/step - loss: 0.0022\n",
      "Epoch 51/100\n",
      "38/38 [==============================] - 7s 183ms/step - loss: 0.0025\n",
      "Epoch 52/100\n",
      "38/38 [==============================] - 8s 202ms/step - loss: 0.0024\n",
      "Epoch 53/100\n",
      "38/38 [==============================] - 7s 187ms/step - loss: 0.0027\n",
      "Epoch 54/100\n",
      "38/38 [==============================] - 7s 188ms/step - loss: 0.0021\n",
      "Epoch 55/100\n",
      "38/38 [==============================] - 7s 192ms/step - loss: 0.0023\n",
      "Epoch 56/100\n",
      "38/38 [==============================] - 7s 181ms/step - loss: 0.0023\n",
      "Epoch 57/100\n",
      "38/38 [==============================] - 7s 196ms/step - loss: 0.0020\n",
      "Epoch 58/100\n",
      "38/38 [==============================] - 7s 185ms/step - loss: 0.0020\n",
      "Epoch 59/100\n",
      "38/38 [==============================] - 7s 185ms/step - loss: 0.0022\n",
      "Epoch 60/100\n",
      "38/38 [==============================] - 7s 185ms/step - loss: 0.0019\n",
      "Epoch 61/100\n",
      "38/38 [==============================] - 8s 200ms/step - loss: 0.0019\n",
      "Epoch 62/100\n",
      "38/38 [==============================] - 7s 184ms/step - loss: 0.0020\n",
      "Epoch 63/100\n",
      "38/38 [==============================] - 7s 184ms/step - loss: 0.0023\n",
      "Epoch 64/100\n",
      "38/38 [==============================] - 7s 185ms/step - loss: 0.0020\n",
      "Epoch 65/100\n",
      "38/38 [==============================] - 7s 184ms/step - loss: 0.0021\n",
      "Epoch 66/100\n",
      "38/38 [==============================] - 8s 214ms/step - loss: 0.0018\n",
      "Epoch 67/100\n",
      "38/38 [==============================] - 7s 194ms/step - loss: 0.0018\n",
      "Epoch 68/100\n",
      "38/38 [==============================] - 7s 185ms/step - loss: 0.0018\n",
      "Epoch 69/100\n",
      "38/38 [==============================] - 7s 183ms/step - loss: 0.0019\n",
      "Epoch 70/100\n",
      "38/38 [==============================] - 8s 201ms/step - loss: 0.0016\n",
      "Epoch 71/100\n",
      "38/38 [==============================] - 7s 184ms/step - loss: 0.0018\n",
      "Epoch 72/100\n",
      "38/38 [==============================] - 7s 185ms/step - loss: 0.0018\n",
      "Epoch 73/100\n",
      "38/38 [==============================] - 7s 186ms/step - loss: 0.0019\n",
      "Epoch 74/100\n",
      "38/38 [==============================] - 7s 184ms/step - loss: 0.0019\n",
      "Epoch 75/100\n",
      "38/38 [==============================] - 8s 201ms/step - loss: 0.0018\n",
      "Epoch 76/100\n",
      "38/38 [==============================] - 7s 187ms/step - loss: 0.0017\n",
      "Epoch 77/100\n",
      "38/38 [==============================] - 7s 184ms/step - loss: 0.0016\n",
      "Epoch 78/100\n",
      "38/38 [==============================] - 7s 184ms/step - loss: 0.0019\n",
      "Epoch 79/100\n",
      "38/38 [==============================] - 7s 184ms/step - loss: 0.0018\n",
      "Epoch 80/100\n",
      "38/38 [==============================] - 8s 196ms/step - loss: 0.0016\n",
      "Epoch 81/100\n",
      "38/38 [==============================] - 7s 183ms/step - loss: 0.0016\n",
      "Epoch 82/100\n",
      "38/38 [==============================] - 7s 184ms/step - loss: 0.0016\n",
      "Epoch 83/100\n",
      "38/38 [==============================] - 7s 187ms/step - loss: 0.0015\n",
      "Epoch 84/100\n",
      "38/38 [==============================] - 7s 197ms/step - loss: 0.0014\n",
      "Epoch 85/100\n",
      "38/38 [==============================] - 7s 182ms/step - loss: 0.0018\n",
      "Epoch 86/100\n",
      "38/38 [==============================] - 7s 183ms/step - loss: 0.0015\n",
      "Epoch 87/100\n",
      "38/38 [==============================] - 7s 185ms/step - loss: 0.0017\n",
      "Epoch 88/100\n",
      "38/38 [==============================] - 7s 187ms/step - loss: 0.0017\n",
      "Epoch 89/100\n",
      "38/38 [==============================] - 7s 190ms/step - loss: 0.0017\n",
      "Epoch 90/100\n",
      "38/38 [==============================] - 7s 183ms/step - loss: 0.0016\n",
      "Epoch 91/100\n",
      "38/38 [==============================] - 7s 182ms/step - loss: 0.0014\n",
      "Epoch 92/100\n",
      "38/38 [==============================] - 7s 184ms/step - loss: 0.0014\n",
      "Epoch 93/100\n",
      "38/38 [==============================] - 8s 199ms/step - loss: 0.0014\n",
      "Epoch 94/100\n",
      "38/38 [==============================] - 7s 182ms/step - loss: 0.0014\n",
      "Epoch 95/100\n",
      "38/38 [==============================] - 7s 182ms/step - loss: 0.0017\n",
      "Epoch 96/100\n",
      "38/38 [==============================] - 7s 183ms/step - loss: 0.0015\n",
      "Epoch 97/100\n",
      "38/38 [==============================] - 7s 185ms/step - loss: 0.0016\n",
      "Epoch 98/100\n",
      "38/38 [==============================] - 8s 208ms/step - loss: 0.0015\n",
      "Epoch 99/100\n",
      "38/38 [==============================] - 7s 181ms/step - loss: 0.0014\n",
      "Epoch 100/100\n",
      "38/38 [==============================] - 7s 183ms/step - loss: 0.0015\n"
     ]
    },
    {
     "data": {
      "text/plain": [
       "<keras.callbacks.History at 0x7f0bc456cc50>"
      ]
     },
     "execution_count": 14,
     "metadata": {},
     "output_type": "execute_result"
    }
   ],
   "source": [
    "#Fitting RNN\n",
    "#100 for much higher accuracy\n",
    "\n",
    "regressor.fit(X_train, y_train, epochs = 100, batch_size = 32)"
   ]
  },
  {
   "cell_type": "markdown",
   "metadata": {
    "id": "uc7eD3O9S_lB"
   },
   "source": [
    "### Making the predictions and viewing results"
   ]
  },
  {
   "cell_type": "code",
   "execution_count": 15,
   "metadata": {
    "execution": {
     "iopub.execute_input": "2022-02-17T15:08:11.519209Z",
     "iopub.status.busy": "2022-02-17T15:08:11.518632Z",
     "iopub.status.idle": "2022-02-17T15:08:11.533703Z",
     "shell.execute_reply": "2022-02-17T15:08:11.532796Z",
     "shell.execute_reply.started": "2022-02-17T15:08:11.519164Z"
    },
    "id": "IM82dwYPTBeu"
   },
   "outputs": [],
   "source": [
    "#Getting real stock price of 2017\n",
    "\n",
    "dataset_test= pd.read_csv('../input/google-stock-price/Google_Stock_Price_Test.csv')\n",
    "real_stock_price = dataset_test.iloc[:,1:2].values"
   ]
  },
  {
   "cell_type": "code",
   "execution_count": 16,
   "metadata": {
    "execution": {
     "iopub.execute_input": "2022-02-17T15:08:11.535181Z",
     "iopub.status.busy": "2022-02-17T15:08:11.534858Z",
     "iopub.status.idle": "2022-02-17T15:08:11.549008Z",
     "shell.execute_reply": "2022-02-17T15:08:11.548315Z",
     "shell.execute_reply.started": "2022-02-17T15:08:11.535153Z"
    },
    "id": "fNIEOngyUCeb"
   },
   "outputs": [],
   "source": [
    "#Getting the predicted stock price of 2017\n",
    "\n",
    "dataset_total = pd.concat((dataset_train['Open'],dataset_test['Open']), axis=0)\n",
    "\n",
    "inputs = dataset_total[ len(dataset_total) - len(dataset_test) -60:].values\n",
    "\n",
    "inputs = inputs.reshape(-1,1)\n",
    "\n",
    "inputs = sc.transform(inputs)"
   ]
  },
  {
   "cell_type": "code",
   "execution_count": 17,
   "metadata": {
    "execution": {
     "iopub.execute_input": "2022-02-17T15:08:11.551394Z",
     "iopub.status.busy": "2022-02-17T15:08:11.551005Z",
     "iopub.status.idle": "2022-02-17T15:08:13.186800Z",
     "shell.execute_reply": "2022-02-17T15:08:13.186106Z",
     "shell.execute_reply.started": "2022-02-17T15:08:11.551356Z"
    },
    "id": "eb-2LcSxVBC7"
   },
   "outputs": [],
   "source": [
    "X_test = []\n",
    "\n",
    "for i in range(60, 80):\n",
    "    X_test.append(inputs[i-60:i,0])\n",
    "\n",
    "X_test= np.array(X_test)\n",
    "X_test = np.reshape(X_test,(X_test.shape[0],X_test.shape[1], 1))\n",
    "\n",
    "predicted_stock_price = regressor.predict(X_test)\n",
    "predicted_stock_price = sc.inverse_transform(predicted_stock_price)"
   ]
  },
  {
   "cell_type": "markdown",
   "metadata": {
    "id": "SVPcdnJkVVOK"
   },
   "source": [
    "### Visualizing the Results"
   ]
  },
  {
   "cell_type": "code",
   "execution_count": 20,
   "metadata": {
    "execution": {
     "iopub.execute_input": "2022-02-17T15:09:51.424029Z",
     "iopub.status.busy": "2022-02-17T15:09:51.423671Z",
     "iopub.status.idle": "2022-02-17T15:09:51.652065Z",
     "shell.execute_reply": "2022-02-17T15:09:51.650848Z",
     "shell.execute_reply.started": "2022-02-17T15:09:51.423992Z"
    },
    "id": "PKIEzxj9VQ_c",
    "outputId": "0c4deb65-d765-4bf7-bef8-2bf6dc7cf9ca"
   },
   "outputs": [
    {
     "data": {
      "image/png": "[encoded data removed]",
      "text/plain": [
       "<Figure size 432x288 with 1 Axes>"
      ]
     },
     "metadata": {
      "needs_background": "light"
     },
     "output_type": "display_data"
    }
   ],
   "source": [
    "plt.plot(real_stock_price,color='red', label='Real Google Stock Price for Jan 2017')\n",
    "plt.plot(predicted_stock_price,color='blue', label='Predicted Google Stock Price for Jan 2017')\n",
    "plt.title('Google Stock Price Prediction')\n",
    "plt.xlabel('Time')\n",
    "plt.ylabel('Google Stock Price')\n",
    "plt.legend()\n",
    "plt.show()"
   ]
  }
 ],
 "metadata": {
  "kernelspec": {
   "display_name": "Python 3 (ipykernel)",
   "language": "python",
   "name": "python3"
  },
  "language_info": {
   "codemirror_mode": {
    "name": "ipython",
    "version": 3
   },
   "file_extension": ".py",
   "mimetype": "text/x-python",
   "name": "python",
   "nbconvert_exporter": "python",
   "pygments_lexer": "ipython3",
   "version": "3.9.12"
  }
 },
 "nbformat": 4,
 "nbformat_minor": 4
}
